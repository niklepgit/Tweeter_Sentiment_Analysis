{
 "cells": [
  {
   "cell_type": "markdown",
   "metadata": {},
   "source": [
    "Students: Lepidas Nikolas sdi1600090 and Lamprinos Nikos sdi1600088\n",
    "\n",
    "Course: Datamining"
   ]
  },
  {
   "cell_type": "markdown",
   "metadata": {},
   "source": [
    "The puprose of this exercise is to write a program that will be able to \"know\" if a tweet has positive, negative or neutral sentiment. The steps that we will go through are cleaning, stemming, vectorization and classification. "
   ]
  },
  {
   "cell_type": "markdown",
   "metadata": {},
   "source": [
    "The code below will make the cells wider."
   ]
  },
  {
   "cell_type": "code",
   "execution_count": 1,
   "metadata": {},
   "outputs": [
    {
     "data": {
      "text/html": [
       "\n",
       "<style>\n",
       "    div#notebook-container    { width: 95%; }\n",
       "    div#menubar-container     { width: 65%; }\n",
       "    div#maintoolbar-container { width: 99%; }\n",
       "</style>\n"
      ],
      "text/plain": [
       "<IPython.core.display.HTML object>"
      ]
     },
     "metadata": {},
     "output_type": "display_data"
    }
   ],
   "source": [
    "from IPython.display import display, HTML\n",
    "\n",
    "display(HTML(data=\"\"\"\n",
    "<style>\n",
    "    div#notebook-container    { width: 95%; }\n",
    "    div#menubar-container     { width: 65%; }\n",
    "    div#maintoolbar-container { width: 99%; }\n",
    "</style>\n",
    "\"\"\"))"
   ]
  },
  {
   "cell_type": "markdown",
   "metadata": {},
   "source": [
    "First of all we create 3 dataframes with every sentiment from the train dataset."
   ]
  },
  {
   "cell_type": "code",
   "execution_count": 2,
   "metadata": {},
   "outputs": [],
   "source": [
    "import pandas as pd\n",
    "\n",
    "train_file = r'../twitter_data/train2017.tsv'\n",
    "#train_file = r'./small_train.tsv'\n",
    "dataframe = pd.read_csv(train_file, sep='\\t', names=['ID1','ID2','Sentiment','Tweet'])\n",
    "\n",
    "grouped = dataframe.groupby('Sentiment')                        #group by Sentiment\n",
    "positive_tweets = grouped.get_group('positive').reset_index()   #get a dataframe with positive tweets\n",
    "negative_tweets = grouped.get_group('negative').reset_index()   #get a dataframe with negative tweets\n",
    "neutral_tweets = grouped.get_group('neutral').reset_index()     #get a dataframe with neutral tweets"
   ]
  },
  {
   "cell_type": "code",
   "execution_count": 3,
   "metadata": {},
   "outputs": [
    {
     "name": "stdout",
     "output_type": "stream",
     "text": [
      "Positive tweets dataframe:\n",
      "\n",
      "   index                 ID1        ID2 Sentiment  \\\n",
      "0      0  264183816548130816   15140428  positive   \n",
      "1      6  264105751826538497  147088367  positive   \n",
      "2     12  263398998675693568  812957996  positive   \n",
      "3     13  263650552167157762  224845471  positive   \n",
      "4     15  264087629237202944   61903760  positive   \n",
      "\n",
      "                                               Tweet  \n",
      "0  Gas by my house hit $3.39!!!! I'm going to Cha...  \n",
      "1  with J Davlar 11th. Main rivals are team Polan...  \n",
      "2  @oluoch @victor_otti @kunjand I just watched i...  \n",
      "3  One of my best 8th graders Kory was excited af...  \n",
      "4  @MsSheLahY I didnt want to just pop up... but ...  \n",
      "\n",
      "\n",
      "Negative tweets dataframe:\n",
      "\n",
      "   index                 ID1        ID2 Sentiment  \\\n",
      "0      1  263405084770172928  591166521  negative   \n",
      "1      2  262163168678248449   35266263  negative   \n",
      "2      3  264249301910310912   18516728  negative   \n",
      "3      7  264094586689953794  332474633  negative   \n",
      "4      9  254941790757601280  557103111  negative   \n",
      "\n",
      "                                               Tweet  \n",
      "0  Theo Walcott is still shit, watch Rafa and Joh...  \n",
      "1  its not that I'm a GSP fan, i just hate Nick D...  \n",
      "2  Iranian general says Israel's Iron Dome can't ...  \n",
      "3  Talking about ACT's && SAT's, deciding where I...  \n",
      "4  They may have a SuperBowl in Dallas, but Dalla...  \n",
      "\n",
      "\n",
      "Neutral tweets dataframe:\n",
      "\n",
      "   index                 ID1        ID2 Sentiment  \\\n",
      "0      4  262682041215234048  254373818   neutral   \n",
      "1      5  264229576773861376  518129399   neutral   \n",
      "2      8  212392538055778304  274996324   neutral   \n",
      "3     10  264169034155696130  382403760   neutral   \n",
      "4     11  263192091700654080  344222239   neutral   \n",
      "\n",
      "                                               Tweet  \n",
      "0  Tehran, Mon Amour: Obama Tried to Establish Ti...  \n",
      "1  I sat through this whole movie just for Harry ...  \n",
      "2  Why is \\\"\"Happy Valentines Day\\\"\" trending? It...  \n",
      "3  Im bringing the monster load of candy tomorrow...  \n",
      "4  Apple software, retail chiefs out in overhaul:...  \n",
      "\n",
      "\n",
      "\n",
      "\n"
     ]
    }
   ],
   "source": [
    "#Some printings\n",
    "print(\"Positive tweets dataframe:\\n\")\n",
    "print (positive_tweets.head())\n",
    "print('\\n')\n",
    "print(\"Negative tweets dataframe:\\n\")\n",
    "print (negative_tweets.head())\n",
    "print('\\n')\n",
    "print(\"Neutral tweets dataframe:\\n\")\n",
    "print (neutral_tweets.head())\n",
    "print ('\\n\\n\\n')\n",
    "#end of printings"
   ]
  },
  {
   "cell_type": "markdown",
   "metadata": {},
   "source": [
    "Below we have a bar chart in order to see how many tweets from our dataset are positive, negative and neutral."
   ]
  },
  {
   "cell_type": "code",
   "execution_count": 4,
   "metadata": {},
   "outputs": [
    {
     "data": {
      "image/png": "[encoded data removed]",
      "text/plain": [
       "<IPython.core.display.Image object>"
      ]
     },
     "execution_count": 4,
     "metadata": {},
     "output_type": "execute_result"
    }
   ],
   "source": [
    "from IPython.display import Image\n",
    "Image(\"./images/bar_charts/amount_grouped_tweets.png\")"
   ]
  },
  {
   "cell_type": "markdown",
   "metadata": {},
   "source": [
    "Now we make 3 lists each for every sentiment. So we have positive_tweet list, negative_tweet list and neutral_tweet list."
   ]
  },
  {
   "cell_type": "code",
   "execution_count": 5,
   "metadata": {},
   "outputs": [],
   "source": [
    "positive_tweet = []                                                        #create empty positive_tweet list\n",
    "for x in range(len(positive_tweets)):                                      #for every positive tweet in the previous positives_tweet dataframe\n",
    "    positive_tweet.append(positive_tweets['Tweet'][x])                     #append only the Tweet column to the list\n",
    "\n",
    "negative_tweet = []\n",
    "for x in range(len(negative_tweets)):\n",
    "    negative_tweet.append(negative_tweets['Tweet'][x])\n",
    "    \n",
    "neutral_tweet = []\n",
    "for x in range(len(neutral_tweets)):\n",
    "    neutral_tweet.append(neutral_tweets['Tweet'][x])"
   ]
  },
  {
   "cell_type": "markdown",
   "metadata": {},
   "source": [
    "Now we will clean the tweets from urls, tags, symbols and numbers. We also use lower() function to have only lower letters. "
   ]
  },
  {
   "cell_type": "code",
   "execution_count": 6,
   "metadata": {},
   "outputs": [],
   "source": [
    "import re                                                                                                           #import regular expressions\n",
    "\n",
    "for x in range(len(positive_tweet)):                                                                                #for every tweet in the list of positive tweets\n",
    "    positive_tweet[x] = re.sub('http://\\S+|https://\\S+', '', positive_tweet[x])                                     #remove the urls\n",
    "    positive_tweet[x] = re.sub('@\\S+', '', positive_tweet[x])                                                       #remove the tags\n",
    "    positive_tweet[x] = re.sub('[0-9`~!@#\\$%^&\\*\\(\\)\\-\\_\\=\\+\\[\\]\\{\\}\\\\\\|\\;\\:<\\,.\\>\\/\\?\\'\\\"]','', positive_tweet[x]) #remove the symbols\n",
    "    positive_tweet[x] = positive_tweet[x].lower()                                                                   #lowercase the letters\n",
    "\n",
    "for x in range(len(negative_tweet)):\n",
    "    negative_tweet[x] = re.sub('http://\\S+|https://\\S+', '', negative_tweet[x])\n",
    "    negative_tweet[x] = re.sub('@\\S+', '', negative_tweet[x])                                                       \n",
    "    negative_tweet[x] = re.sub('[0-9`~!@#\\$%^&\\*\\(\\)\\-\\_\\=\\+\\[\\]\\{\\}\\\\\\|\\;\\:<\\,.\\>\\/\\?\\'\\\"]','', negative_tweet[x])\n",
    "    negative_tweet[x] = negative_tweet[x].lower()\n",
    "\n",
    "for x in range(len(neutral_tweet)):\n",
    "    neutral_tweet[x] = re.sub('http://\\S+|https://\\S+', '', neutral_tweet[x])\n",
    "    neutral_tweet[x] = re.sub('@\\S+', '', neutral_tweet[x])                                                       \n",
    "    neutral_tweet[x] = re.sub('[0-9`~!@#\\$%^&\\*\\(\\)\\-\\_\\=\\+\\[\\]\\{\\}\\\\\\|\\;\\:<\\,.\\>\\/\\?\\'\\\"]','', neutral_tweet[x])\n",
    "    neutral_tweet[x] = neutral_tweet[x].lower()"
   ]
  },
  {
   "cell_type": "markdown",
   "metadata": {},
   "source": [
    "We will use function printList to print only 5 elements from the given list. We do that since there is no similar function to head() for lists in python."
   ]
  },
  {
   "cell_type": "code",
   "execution_count": 7,
   "metadata": {},
   "outputs": [],
   "source": [
    "def printList(List):\n",
    "    for i in range(5):\n",
    "        print(List[i])\n",
    "    print()"
   ]
  },
  {
   "cell_type": "code",
   "execution_count": 8,
   "metadata": {},
   "outputs": [
    {
     "name": "stdout",
     "output_type": "stream",
     "text": [
      "Positive tweets after cleaning:\n",
      "\n",
      "gas by my house hit  im going to chapel hill on sat \n",
      "with j davlar th main rivals are team poland hopefully we an make it a successful end to a tough week of training tomorrow\n",
      "   i just watched it sridevis comeback u remember her from the s sun mornings on nta \n",
      "one of my best th graders kory was excited after his touchdown today he did the victor cruzlol \n",
      " i didnt want to just pop up but yep we have chapel hill next wednesday you should come and shes great ill tell her you asked\n",
      "\n",
      "Negative tweets after cleaning:\n",
      "\n",
      "theo walcott is still shit watch rafa and johnny deal with him on saturday\n",
      "its not that im a gsp fan i just hate nick diaz cant wait for february\n",
      "iranian general says israels iron dome cant deal with their missiles keep talking like that and we may end up finding out\n",
      "talking about acts  sats deciding where i want to go to college applying to colleges and everything about college stresses me out\n",
      "they may have a superbowl in dallas but dallas aint winning a superbowl not with that quarterback and owner  \n",
      "\n",
      "Neutral tweets after cleaning:\n",
      "\n",
      "tehran mon amour obama tried to establish ties with the mullahs  via  no barack obama  vote mitt romney\n",
      "i sat through this whole movie just for harry and ron at christmas ohlawd\n",
      "why is happy valentines day trending its on the th of february not th of june smh\n",
      "im bringing the monster load of candy tomorrow i just hope it doesnt get all squiched\n",
      "apple software retail chiefs out in overhaul san francisco apple inc ceo tim cook on monday replaced the heads \n",
      "\n"
     ]
    }
   ],
   "source": [
    "print(\"Positive tweets after cleaning:\\n\")\n",
    "printList(positive_tweet)\n",
    "print(\"Negative tweets after cleaning:\\n\")\n",
    "printList(negative_tweet)\n",
    "print(\"Neutral tweets after cleaning:\\n\")\n",
    "printList(neutral_tweet)\n"
   ]
  },
  {
   "cell_type": "markdown",
   "metadata": {},
   "source": [
    "We will use word_tokenize from nltk to tokenize the tweets in order to remove the stopwords."
   ]
  },
  {
   "cell_type": "code",
   "execution_count": 9,
   "metadata": {},
   "outputs": [
    {
     "ename": "LookupError",
     "evalue": "\n**********************************************************************\n  Resource \u001b[93mpunkt\u001b[0m not found.\n  Please use the NLTK Downloader to obtain the resource:\n\n  \u001b[31m>>> import nltk\n  >>> nltk.download('punkt')\n  \u001b[0m\n  Attempted to load \u001b[93mtokenizers/punkt/PY3/english.pickle\u001b[0m\n\n  Searched in:\n    - '/home/nikolas/nltk_data'\n    - '/home/nikolas/anaconda3/nltk_data'\n    - '/home/nikolas/anaconda3/share/nltk_data'\n    - '/home/nikolas/anaconda3/lib/nltk_data'\n    - '/usr/share/nltk_data'\n    - '/usr/local/share/nltk_data'\n    - '/usr/lib/nltk_data'\n    - '/usr/local/lib/nltk_data'\n    - ''\n**********************************************************************\n",
     "output_type": "error",
     "traceback": [
      "\u001b[0;31m---------------------------------------------------------------------------\u001b[0m",
      "\u001b[0;31mLookupError\u001b[0m                               Traceback (most recent call last)",
      "\u001b[0;32m<ipython-input-9-1166dbd7ed7d>\u001b[0m in \u001b[0;36m<module>\u001b[0;34m\u001b[0m\n\u001b[1;32m      4\u001b[0m \u001b[0mpositive_tokens\u001b[0m \u001b[0;34m=\u001b[0m \u001b[0;34m[\u001b[0m\u001b[0;34m]\u001b[0m\u001b[0;34m\u001b[0m\u001b[0;34m\u001b[0m\u001b[0m\n\u001b[1;32m      5\u001b[0m \u001b[0;32mfor\u001b[0m \u001b[0mx\u001b[0m \u001b[0;32min\u001b[0m \u001b[0mrange\u001b[0m\u001b[0;34m(\u001b[0m\u001b[0mlen\u001b[0m\u001b[0;34m(\u001b[0m\u001b[0mpositive_tweet\u001b[0m\u001b[0;34m)\u001b[0m\u001b[0;34m)\u001b[0m\u001b[0;34m:\u001b[0m                            \u001b[0;31m#for every tweet in list of positive tweets\u001b[0m\u001b[0;34m\u001b[0m\u001b[0;34m\u001b[0m\u001b[0m\n\u001b[0;32m----> 6\u001b[0;31m     \u001b[0mpositive_tokens\u001b[0m\u001b[0;34m.\u001b[0m\u001b[0mappend\u001b[0m\u001b[0;34m(\u001b[0m\u001b[0mword_tokenize\u001b[0m\u001b[0;34m(\u001b[0m\u001b[0mpositive_tweet\u001b[0m\u001b[0;34m[\u001b[0m\u001b[0mx\u001b[0m\u001b[0;34m]\u001b[0m\u001b[0;34m)\u001b[0m\u001b[0;34m)\u001b[0m    \u001b[0;31m#tokenize the tweet and append it to the list of tokens\u001b[0m\u001b[0;34m\u001b[0m\u001b[0;34m\u001b[0m\u001b[0m\n\u001b[0m\u001b[1;32m      7\u001b[0m                                                                 \u001b[0;31m#now every tweet is a list of tokens and positive tokens is a list of list of tokens\u001b[0m\u001b[0;34m\u001b[0m\u001b[0;34m\u001b[0m\u001b[0;34m\u001b[0m\u001b[0m\n\u001b[1;32m      8\u001b[0m \u001b[0;34m\u001b[0m\u001b[0m\n",
      "\u001b[0;32m~/anaconda3/lib/python3.7/site-packages/nltk/tokenize/__init__.py\u001b[0m in \u001b[0;36mword_tokenize\u001b[0;34m(text, language, preserve_line)\u001b[0m\n\u001b[1;32m    141\u001b[0m     \u001b[0;34m:\u001b[0m\u001b[0mtype\u001b[0m \u001b[0mpreserve_line\u001b[0m\u001b[0;34m:\u001b[0m \u001b[0mbool\u001b[0m\u001b[0;34m\u001b[0m\u001b[0;34m\u001b[0m\u001b[0m\n\u001b[1;32m    142\u001b[0m     \"\"\"\n\u001b[0;32m--> 143\u001b[0;31m     \u001b[0msentences\u001b[0m \u001b[0;34m=\u001b[0m \u001b[0;34m[\u001b[0m\u001b[0mtext\u001b[0m\u001b[0;34m]\u001b[0m \u001b[0;32mif\u001b[0m \u001b[0mpreserve_line\u001b[0m \u001b[0;32melse\u001b[0m \u001b[0msent_tokenize\u001b[0m\u001b[0;34m(\u001b[0m\u001b[0mtext\u001b[0m\u001b[0;34m,\u001b[0m \u001b[0mlanguage\u001b[0m\u001b[0;34m)\u001b[0m\u001b[0;34m\u001b[0m\u001b[0;34m\u001b[0m\u001b[0m\n\u001b[0m\u001b[1;32m    144\u001b[0m     return [\n\u001b[1;32m    145\u001b[0m         \u001b[0mtoken\u001b[0m \u001b[0;32mfor\u001b[0m \u001b[0msent\u001b[0m \u001b[0;32min\u001b[0m \u001b[0msentences\u001b[0m \u001b[0;32mfor\u001b[0m \u001b[0mtoken\u001b[0m \u001b[0;32min\u001b[0m \u001b[0m_treebank_word_tokenizer\u001b[0m\u001b[0;34m.\u001b[0m\u001b[0mtokenize\u001b[0m\u001b[0;34m(\u001b[0m\u001b[0msent\u001b[0m\u001b[0;34m)\u001b[0m\u001b[0;34m\u001b[0m\u001b[0;34m\u001b[0m\u001b[0m\n",
      "\u001b[0;32m~/anaconda3/lib/python3.7/site-packages/nltk/tokenize/__init__.py\u001b[0m in \u001b[0;36msent_tokenize\u001b[0;34m(text, language)\u001b[0m\n\u001b[1;32m    102\u001b[0m     \u001b[0;34m:\u001b[0m\u001b[0mparam\u001b[0m \u001b[0mlanguage\u001b[0m\u001b[0;34m:\u001b[0m \u001b[0mthe\u001b[0m \u001b[0mmodel\u001b[0m \u001b[0mname\u001b[0m \u001b[0;32min\u001b[0m \u001b[0mthe\u001b[0m \u001b[0mPunkt\u001b[0m \u001b[0mcorpus\u001b[0m\u001b[0;34m\u001b[0m\u001b[0;34m\u001b[0m\u001b[0m\n\u001b[1;32m    103\u001b[0m     \"\"\"\n\u001b[0;32m--> 104\u001b[0;31m     \u001b[0mtokenizer\u001b[0m \u001b[0;34m=\u001b[0m \u001b[0mload\u001b[0m\u001b[0;34m(\u001b[0m\u001b[0;34m'tokenizers/punkt/{0}.pickle'\u001b[0m\u001b[0;34m.\u001b[0m\u001b[0mformat\u001b[0m\u001b[0;34m(\u001b[0m\u001b[0mlanguage\u001b[0m\u001b[0;34m)\u001b[0m\u001b[0;34m)\u001b[0m\u001b[0;34m\u001b[0m\u001b[0;34m\u001b[0m\u001b[0m\n\u001b[0m\u001b[1;32m    105\u001b[0m     \u001b[0;32mreturn\u001b[0m \u001b[0mtokenizer\u001b[0m\u001b[0;34m.\u001b[0m\u001b[0mtokenize\u001b[0m\u001b[0;34m(\u001b[0m\u001b[0mtext\u001b[0m\u001b[0;34m)\u001b[0m\u001b[0;34m\u001b[0m\u001b[0;34m\u001b[0m\u001b[0m\n\u001b[1;32m    106\u001b[0m \u001b[0;34m\u001b[0m\u001b[0m\n",
      "\u001b[0;32m~/anaconda3/lib/python3.7/site-packages/nltk/data.py\u001b[0m in \u001b[0;36mload\u001b[0;34m(resource_url, format, cache, verbose, logic_parser, fstruct_reader, encoding)\u001b[0m\n\u001b[1;32m    866\u001b[0m \u001b[0;34m\u001b[0m\u001b[0m\n\u001b[1;32m    867\u001b[0m     \u001b[0;31m# Load the resource.\u001b[0m\u001b[0;34m\u001b[0m\u001b[0;34m\u001b[0m\u001b[0;34m\u001b[0m\u001b[0m\n\u001b[0;32m--> 868\u001b[0;31m     \u001b[0mopened_resource\u001b[0m \u001b[0;34m=\u001b[0m \u001b[0m_open\u001b[0m\u001b[0;34m(\u001b[0m\u001b[0mresource_url\u001b[0m\u001b[0;34m)\u001b[0m\u001b[0;34m\u001b[0m\u001b[0;34m\u001b[0m\u001b[0m\n\u001b[0m\u001b[1;32m    869\u001b[0m \u001b[0;34m\u001b[0m\u001b[0m\n\u001b[1;32m    870\u001b[0m     \u001b[0;32mif\u001b[0m \u001b[0mformat\u001b[0m \u001b[0;34m==\u001b[0m \u001b[0;34m'raw'\u001b[0m\u001b[0;34m:\u001b[0m\u001b[0;34m\u001b[0m\u001b[0;34m\u001b[0m\u001b[0m\n",
      "\u001b[0;32m~/anaconda3/lib/python3.7/site-packages/nltk/data.py\u001b[0m in \u001b[0;36m_open\u001b[0;34m(resource_url)\u001b[0m\n\u001b[1;32m    991\u001b[0m \u001b[0;34m\u001b[0m\u001b[0m\n\u001b[1;32m    992\u001b[0m     \u001b[0;32mif\u001b[0m \u001b[0mprotocol\u001b[0m \u001b[0;32mis\u001b[0m \u001b[0;32mNone\u001b[0m \u001b[0;32mor\u001b[0m \u001b[0mprotocol\u001b[0m\u001b[0;34m.\u001b[0m\u001b[0mlower\u001b[0m\u001b[0;34m(\u001b[0m\u001b[0;34m)\u001b[0m \u001b[0;34m==\u001b[0m \u001b[0;34m'nltk'\u001b[0m\u001b[0;34m:\u001b[0m\u001b[0;34m\u001b[0m\u001b[0;34m\u001b[0m\u001b[0m\n\u001b[0;32m--> 993\u001b[0;31m         \u001b[0;32mreturn\u001b[0m \u001b[0mfind\u001b[0m\u001b[0;34m(\u001b[0m\u001b[0mpath_\u001b[0m\u001b[0;34m,\u001b[0m \u001b[0mpath\u001b[0m \u001b[0;34m+\u001b[0m \u001b[0;34m[\u001b[0m\u001b[0;34m''\u001b[0m\u001b[0;34m]\u001b[0m\u001b[0;34m)\u001b[0m\u001b[0;34m.\u001b[0m\u001b[0mopen\u001b[0m\u001b[0;34m(\u001b[0m\u001b[0;34m)\u001b[0m\u001b[0;34m\u001b[0m\u001b[0;34m\u001b[0m\u001b[0m\n\u001b[0m\u001b[1;32m    994\u001b[0m     \u001b[0;32melif\u001b[0m \u001b[0mprotocol\u001b[0m\u001b[0;34m.\u001b[0m\u001b[0mlower\u001b[0m\u001b[0;34m(\u001b[0m\u001b[0;34m)\u001b[0m \u001b[0;34m==\u001b[0m \u001b[0;34m'file'\u001b[0m\u001b[0;34m:\u001b[0m\u001b[0;34m\u001b[0m\u001b[0;34m\u001b[0m\u001b[0m\n\u001b[1;32m    995\u001b[0m         \u001b[0;31m# urllib might not use mode='rb', so handle this one ourselves:\u001b[0m\u001b[0;34m\u001b[0m\u001b[0;34m\u001b[0m\u001b[0;34m\u001b[0m\u001b[0m\n",
      "\u001b[0;32m~/anaconda3/lib/python3.7/site-packages/nltk/data.py\u001b[0m in \u001b[0;36mfind\u001b[0;34m(resource_name, paths)\u001b[0m\n\u001b[1;32m    697\u001b[0m     \u001b[0msep\u001b[0m \u001b[0;34m=\u001b[0m \u001b[0;34m'*'\u001b[0m \u001b[0;34m*\u001b[0m \u001b[0;36m70\u001b[0m\u001b[0;34m\u001b[0m\u001b[0;34m\u001b[0m\u001b[0m\n\u001b[1;32m    698\u001b[0m     \u001b[0mresource_not_found\u001b[0m \u001b[0;34m=\u001b[0m \u001b[0;34m'\\n%s\\n%s\\n%s\\n'\u001b[0m \u001b[0;34m%\u001b[0m \u001b[0;34m(\u001b[0m\u001b[0msep\u001b[0m\u001b[0;34m,\u001b[0m \u001b[0mmsg\u001b[0m\u001b[0;34m,\u001b[0m \u001b[0msep\u001b[0m\u001b[0;34m)\u001b[0m\u001b[0;34m\u001b[0m\u001b[0;34m\u001b[0m\u001b[0m\n\u001b[0;32m--> 699\u001b[0;31m     \u001b[0;32mraise\u001b[0m \u001b[0mLookupError\u001b[0m\u001b[0;34m(\u001b[0m\u001b[0mresource_not_found\u001b[0m\u001b[0;34m)\u001b[0m\u001b[0;34m\u001b[0m\u001b[0;34m\u001b[0m\u001b[0m\n\u001b[0m\u001b[1;32m    700\u001b[0m \u001b[0;34m\u001b[0m\u001b[0m\n\u001b[1;32m    701\u001b[0m \u001b[0;34m\u001b[0m\u001b[0m\n",
      "\u001b[0;31mLookupError\u001b[0m: \n**********************************************************************\n  Resource \u001b[93mpunkt\u001b[0m not found.\n  Please use the NLTK Downloader to obtain the resource:\n\n  \u001b[31m>>> import nltk\n  >>> nltk.download('punkt')\n  \u001b[0m\n  Attempted to load \u001b[93mtokenizers/punkt/PY3/english.pickle\u001b[0m\n\n  Searched in:\n    - '/home/nikolas/nltk_data'\n    - '/home/nikolas/anaconda3/nltk_data'\n    - '/home/nikolas/anaconda3/share/nltk_data'\n    - '/home/nikolas/anaconda3/lib/nltk_data'\n    - '/usr/share/nltk_data'\n    - '/usr/local/share/nltk_data'\n    - '/usr/lib/nltk_data'\n    - '/usr/local/lib/nltk_data'\n    - ''\n**********************************************************************\n"
     ]
    }
   ],
   "source": [
    "#import nltk\n",
    "from nltk import word_tokenize\n",
    "\n",
    "positive_tokens = []\n",
    "for x in range(len(positive_tweet)):                            #for every tweet in list of positive tweets\n",
    "    positive_tokens.append(word_tokenize(positive_tweet[x]))    #tokenize the tweet and append it to the list of tokens\n",
    "                                                                #now every tweet is a list of tokens and positive tokens is a list of list of tokens\n",
    "\n",
    "negative_tokens = []\n",
    "for x in range(len(negative_tweet)):\n",
    "    negative_tokens.append(word_tokenize(negative_tweet[x]))\n",
    "\n",
    "neutral_tokens = []\n",
    "for x in range(len(neutral_tweet)):\n",
    "    neutral_tokens.append(word_tokenize(neutral_tweet[x]))\n"
   ]
  },
  {
   "cell_type": "code",
   "execution_count": null,
   "metadata": {},
   "outputs": [],
   "source": [
    "print(\"Positive tweets after tokenization:\\n\")\n",
    "printList(positive_tokens)\n",
    "print(\"Negative tweets after tokenization:\\n\")\n",
    "printList(negative_tokens)\n",
    "print(\"Neutral tweets after tokenization:\\n\")\n",
    "printList(neutral_tokens)\n"
   ]
  },
  {
   "cell_type": "markdown",
   "metadata": {},
   "source": [
    "We use the stopwords from the nltk.corpus in order to remove the stopwords from the tokenized tweets and finish the cleaning. "
   ]
  },
  {
   "cell_type": "code",
   "execution_count": null,
   "metadata": {},
   "outputs": [],
   "source": [
    "from nltk.corpus import stopwords\n",
    "#positive_tokens is a list of list of tokens\n",
    "\n",
    "filtered_positive_words = []\n",
    "filtered_positive_sentences = []\n",
    "for sentence in range(len(positive_tokens)):                                    #for every list-tweet in tokens\n",
    "    for word in range(len(positive_tokens[sentence])):                          #take every token-word of the tweet\n",
    "        if positive_tokens[sentence][word] not in stopwords.words('english'):   #if the token is not a stopword\n",
    "            filtered_positive_words.append(positive_tokens[sentence][word])     #append the word to the list of filtered positive words\n",
    "            \n",
    "    filtered_positive_sentences.append(filtered_positive_words)                 #append the list of non stopwords of the tweet in a list\n",
    "    filtered_positive_words = []                                                #initialize again the list for the next tweet in the positive_tokens list\n",
    "                                                                                #here we create a new positive_tokens list of list of tokens that there are\n",
    "                                                                                #no stopwords  \n",
    "\n",
    "filtered_negative_words = []\n",
    "filtered_negative_sentences = []\n",
    "for sentence in range(len(negative_tokens)):\n",
    "    for word in range(len(negative_tokens[sentence])):\n",
    "        if negative_tokens[sentence][word] not in stopwords.words('english'):\n",
    "            filtered_negative_words.append(negative_tokens[sentence][word])\n",
    "            \n",
    "    filtered_negative_sentences.append(filtered_negative_words)\n",
    "    filtered_negative_words = []            \n",
    "\n",
    "filtered_neutral_words = []\n",
    "filtered_neutral_sentences = []\n",
    "for sentence in range(len(neutral_tokens)):\n",
    "    for word in range(len(neutral_tokens[sentence])):\n",
    "        if neutral_tokens[sentence][word] not in stopwords.words('english'):\n",
    "            filtered_neutral_words.append(neutral_tokens[sentence][word])\n",
    "            \n",
    "    filtered_neutral_sentences.append(filtered_neutral_words)\n",
    "    filtered_neutral_words = []  "
   ]
  },
  {
   "cell_type": "code",
   "execution_count": null,
   "metadata": {},
   "outputs": [],
   "source": [
    "print(\"Positive tweets after removing stopwords:\\n\")\n",
    "printList(filtered_positive_sentences)\n",
    "print(\"Negative tweets after removing stopwords:\\n\")\n",
    "printList(filtered_negative_sentences)\n",
    "print(\"Neutral tweets after removing stopwords:\\n\")\n",
    "printList(filtered_neutral_sentences)    "
   ]
  },
  {
   "cell_type": "markdown",
   "metadata": {},
   "source": [
    "We use PorterStemmer from nltk.stem in order to do the stemming."
   ]
  },
  {
   "cell_type": "code",
   "execution_count": null,
   "metadata": {},
   "outputs": [],
   "source": [
    "from nltk.stem import PorterStemmer\n",
    "stemmer = PorterStemmer()                                                                              #initialize the stemmer\n",
    "                                                                                                        \n",
    "for sentence in range(len(filtered_positive_sentences)):                                               #for every list-tweet in tokens in filtered_positive_sentences[]\n",
    "    for word in range(len(filtered_positive_sentences[sentence])):                                     #take every token-word of the tweet\n",
    "        filtered_positive_sentences[sentence][word] = stemmer.stem(filtered_positive_sentences[sentence][word])\n",
    "                                                                                                       # stemme the word and put it back in its place\n",
    "\n",
    "for sentence in range(len(filtered_negative_sentences)):\n",
    "    for word in range(len(filtered_negative_sentences[sentence])):\n",
    "        filtered_negative_sentences[sentence][word] = stemmer.stem(filtered_negative_sentences[sentence][word])\n",
    "\n",
    "for sentence in range(len(filtered_neutral_sentences)):\n",
    "    for word in range(len(filtered_neutral_sentences[sentence])):\n",
    "        filtered_neutral_sentences[sentence][word] = stemmer.stem(filtered_neutral_sentences[sentence][word])\n"
   ]
  },
  {
   "cell_type": "code",
   "execution_count": null,
   "metadata": {},
   "outputs": [],
   "source": [
    "print(\"Positive tweets after stemming:\\n\")\n",
    "printList(filtered_positive_sentences)\n",
    "print(\"Negative tweets after stemming:\\n\")\n",
    "printList(filtered_negative_sentences)\n",
    "print(\"Neutral tweets after stemming:\\n\")\n",
    "printList(filtered_neutral_sentences)"
   ]
  },
  {
   "cell_type": "markdown",
   "metadata": {},
   "source": [
    "Now that we finished cleaning and stemming we will use Counter from collections in order to count and find the most common words in positive, negative, neutral and all the tweets. After the counting we generate a wordcloud for all 4 categories. After running each box we can see at the bottom 8 of the most common words in each category."
   ]
  },
  {
   "cell_type": "code",
   "execution_count": null,
   "metadata": {},
   "outputs": [],
   "source": [
    "from collections import Counter\n",
    "print(\"Counting most common words:\")\n",
    "print()\n",
    "\n",
    "all_tweets = []                                                    #we will use this list to store all cleaned tweets and count the most common words\n",
    "\n",
    "tweet_list = []\n",
    "split_it_pos = []\n",
    "for x in range(len(filtered_positive_sentences)):                  #for every list inside the filtered_positive_sentences list\n",
    "\ttweet_list.append(' '.join(filtered_positive_sentences[x]))    #take the tokens separated with commas and make it all a tweet-string again\n",
    "\n",
    "string = ' '.join(tweet_list)                                      #make a string from all the tweets in the list tweet_list\n",
    "split_it = string.split()                                          #split the string in words and save a list of them in split_it \n",
    "print (\"Most common words after cleaning for positive tweets\")\n",
    "counter = Counter(split_it)                                        #we take the dictionary \n",
    "print(counter.most_common(8))                                      #count the most common words from split_it\n",
    "print()\n",
    "\n",
    "all_tweets.append(tweet_list)\n",
    "\n",
    "from wordcloud import WordCloud\t# to install wordcloud you need to do as follows.\n",
    "# git clone https://github.com/amueller/word_cloud.git\n",
    "\n",
    "wordcloud = WordCloud(background_color=\"white\").generate_from_frequencies(counter)  #generate wordcloud from frequencies\n",
    "wordcloud.to_file(\"./images/wordclouds/mywc_positive.png\") "
   ]
  },
  {
   "cell_type": "markdown",
   "metadata": {},
   "source": [
    "Now we can see the wordcloud that we created from the positive tweets and the frequencies of the words."
   ]
  },
  {
   "cell_type": "code",
   "execution_count": null,
   "metadata": {},
   "outputs": [],
   "source": [
    "from IPython.display import Image\n",
    "Image(\"./images/wordclouds/mywc_positive.png\")"
   ]
  },
  {
   "cell_type": "markdown",
   "metadata": {},
   "source": [
    "Below we have also a bar chart in order to see the most common words in the positive tweets."
   ]
  },
  {
   "cell_type": "code",
   "execution_count": null,
   "metadata": {
    "scrolled": false
   },
   "outputs": [],
   "source": [
    "Image(\"./images/bar_charts/most_common_words_in_positive_tweets.png\")"
   ]
  },
  {
   "cell_type": "markdown",
   "metadata": {},
   "source": [
    "We do the same proccess as above for the negative, the neutral and all the tweets."
   ]
  },
  {
   "cell_type": "code",
   "execution_count": null,
   "metadata": {},
   "outputs": [],
   "source": [
    "tweet_list = []\n",
    "split_it_pos = []\n",
    "for x in range(len(filtered_negative_sentences)):                  #for every list inside the filtered_negative_sentences list\n",
    "\ttweet_list.append(' '.join(filtered_negative_sentences[x]))    #take the tokens separated with commas and make it all a tweet-string again\n",
    "\n",
    "string = ' '.join(tweet_list)                                      #make a string from all the tweets in the list tweet_list\n",
    "split_it = string.split()                                          #split the string in words and save a list of them in split_it \n",
    "print (\"Most common words after cleaning for negative tweets\")\n",
    "counter = Counter(split_it)                                        #we take the dictionary \n",
    "print(counter.most_common(8))                                      #count the most common words from split_it\n",
    "print()\n",
    "\n",
    "wordcloud = WordCloud(background_color=\"white\").generate_from_frequencies(counter)  #generate wordcloud from frequencies\n",
    "wordcloud.to_file(\"./images/wordclouds/mywc_negative.png\")  "
   ]
  },
  {
   "cell_type": "markdown",
   "metadata": {},
   "source": [
    "Now we can see the wordcloud that we created from the negative tweets and the frequencies of the words."
   ]
  },
  {
   "cell_type": "code",
   "execution_count": null,
   "metadata": {},
   "outputs": [],
   "source": [
    "Image(\"./images/wordclouds/mywc_negative.png\")\n"
   ]
  },
  {
   "cell_type": "markdown",
   "metadata": {},
   "source": [
    "Below we have also a bar chart in order to see the most common words in the negative tweets."
   ]
  },
  {
   "cell_type": "code",
   "execution_count": null,
   "metadata": {},
   "outputs": [],
   "source": [
    "Image(\"./images/bar_charts/most_common_words_in_negative_tweets.png\")"
   ]
  },
  {
   "cell_type": "markdown",
   "metadata": {},
   "source": [
    "Now for the neutral tweets:"
   ]
  },
  {
   "cell_type": "code",
   "execution_count": null,
   "metadata": {},
   "outputs": [],
   "source": [
    "all_tweets.append(tweet_list)\n",
    "\n",
    "tweet_list = []\n",
    "split_it_pos = []\n",
    "for x in range(len(filtered_neutral_sentences)):                  #for every list inside the filtered_neutral_sentences list\n",
    "\ttweet_list.append(' '.join(filtered_neutral_sentences[x]))    #take the tokens separated with commas and make it all a tweet-string again\n",
    "\n",
    "string = ' '.join(tweet_list)                                      #make a string from all the tweets in the list tweet_list\n",
    "split_it = string.split()                                          #split the string in words and save a list of them in split_it \n",
    "print (\"Most common words after cleaning for neutral tweets\")\n",
    "counter = Counter(split_it)                                        #we take the dictionary \n",
    "print(counter.most_common(8))                                      #count the most common words from split_it\n",
    "print()\n",
    "\n",
    "wordcloud = WordCloud(background_color=\"white\").generate_from_frequencies(counter)  #generate wordcloud from frequencies\n",
    "wordcloud.to_file(\"./images/wordclouds/mywc_neutral.png\")                                               # Export my wordcloud image \n",
    "\n",
    "all_tweets.append(tweet_list)\n"
   ]
  },
  {
   "cell_type": "markdown",
   "metadata": {},
   "source": [
    "Now we can see the wordcloud that we created from the neutral tweets and the frequencies of the words."
   ]
  },
  {
   "cell_type": "code",
   "execution_count": null,
   "metadata": {},
   "outputs": [],
   "source": [
    "Image(\"./images/wordclouds/mywc_neutral.png\")"
   ]
  },
  {
   "cell_type": "markdown",
   "metadata": {},
   "source": [
    "Below we have also a bar chart in order to see the most common words in the neutral tweets."
   ]
  },
  {
   "cell_type": "code",
   "execution_count": null,
   "metadata": {},
   "outputs": [],
   "source": [
    "Image(\"./images/bar_charts/most_common_words_in_neutral_tweets.png\")"
   ]
  },
  {
   "cell_type": "markdown",
   "metadata": {},
   "source": [
    "Now we will use removeNestings() function in order to get the final_list with all the tweets since all_tweets is a list with 3 lists inside it, one for every category of sentiment with all the tweets in this category. In this way we can find the most common words in all the tweets"
   ]
  },
  {
   "cell_type": "code",
   "execution_count": null,
   "metadata": {
    "scrolled": false
   },
   "outputs": [],
   "source": [
    "final_list = []\n",
    "def removeNestings(l):\n",
    "    for i in l: \n",
    "        if type(i) == list: \n",
    "            removeNestings(i) \n",
    "        else: \n",
    "            final_list.append(i) \n",
    "\n",
    "removeNestings(all_tweets)                                       #we remove the nesting and now we have one big list with all the tweets\n",
    "string = ' '.join(final_list)                              \n",
    "split_it = string.split()\n",
    "\n",
    "print (\"Most common words after cleaning for all tweets\")\n",
    "counter = Counter(split_it)                                        #we take the dictionary \n",
    "print(counter.most_common(8))                                      #count the most common words from split_it\n",
    "print()\n",
    "\n",
    "wordcloud = WordCloud(background_color=\"white\").generate_from_frequencies(counter)  #generate wordcloud from frequencies\n",
    "wordcloud.to_file(\"./images/wordclouds/mywc_all.png\")   "
   ]
  },
  {
   "cell_type": "markdown",
   "metadata": {},
   "source": [
    "Now we can see the wordcloud that we created from all tweets and the frequencies of the words."
   ]
  },
  {
   "cell_type": "code",
   "execution_count": null,
   "metadata": {},
   "outputs": [],
   "source": [
    "Image(\"./images/wordclouds/mywc_all.png\")"
   ]
  },
  {
   "cell_type": "markdown",
   "metadata": {},
   "source": [
    "Below we have also a bar chart in order to see the most common words in all tweets."
   ]
  },
  {
   "cell_type": "code",
   "execution_count": null,
   "metadata": {},
   "outputs": [],
   "source": [
    "Image(\"./images/bar_charts/most_common_words_in_all_tweets.png\")"
   ]
  },
  {
   "cell_type": "markdown",
   "metadata": {},
   "source": [
    "In the second part below we will do the vectorization and the classification. We will use three methods: bag of words, tfidf and word embeddings. We will also need at some point to do some cleaning of the data that's why we will use some functions that we created. At the part above we didn't use these functions because we wanted to do it step by step."
   ]
  },
  {
   "cell_type": "markdown",
   "metadata": {},
   "source": [
    "Cleaning functions:"
   ]
  },
  {
   "cell_type": "code",
   "execution_count": null,
   "metadata": {},
   "outputs": [],
   "source": [
    "def removePunctuation(dataframe):\n",
    "    tweets = []                                                        \n",
    "    for x in range(len(dataframe)):                                 \n",
    "        tweets.append(dataframe['Tweet'][x])                     #append only the Tweet column to the list\n",
    "\n",
    "    for x in range(len(tweets)):                                                                        #for every tweet in the list of positive tweets\n",
    "        tweets[x] = re.sub('http://\\S+|https://\\S+', '', tweets[x])                                     #remove the urls\n",
    "        tweets[x] = re.sub('@\\S+', '', tweets[x])                                                       #remove the tags\n",
    "        tweets[x] = re.sub('[0-9`~!@#\\$%^&\\*\\(\\)\\-\\_\\=\\+\\[\\]\\{\\}\\\\\\|\\;\\:<\\,.\\>\\/\\?\\'\\\"]','', tweets[x]) #remove the symbols\n",
    "        tweets[x] = tweets[x].lower()\n",
    "    \n",
    "    return tweets\n",
    "\n",
    "from nltk import word_tokenize\n",
    "from nltk.corpus import stopwords\n",
    "\n",
    "def removeStopwords(tweets):\n",
    "    tokens = []\n",
    "    for x in range(len(tweets)):                         #for every tweet in list of tweets\n",
    "        tokens.append(word_tokenize(tweets[x]))          #tokenize the tweet and append it to the list of tokens\n",
    "                                                        #now every tweet is a list of tokens and tokens is a list of list of tokens\n",
    "\n",
    "    filtered_words = []\n",
    "    filtered_sentences = []\n",
    "    for sentence in range(len(tokens)):                                    #for every list-tweet in tokens\n",
    "        for word in range(len(tokens[sentence])):                          #take every token-word of the tweet\n",
    "            if tokens[sentence][word] not in stopwords.words('english'):   #if the token is not a stopword\n",
    "                filtered_words.append(tokens[sentence][word])     #append the word to the list of filtered positive words\n",
    "                \n",
    "        filtered_sentences.append(filtered_words)                 #append the list of non stopwords of the tweet in a list\n",
    "        filtered_words = []                                                #initialize again the list for the next tweet in the positive_tokens list\n",
    "                                                                                    #here we create a new positive_tokens list of list of tokens that there are\n",
    "                                                                                    #no stopwords  \n",
    "    return filtered_sentences"
   ]
  },
  {
   "cell_type": "markdown",
   "metadata": {},
   "source": [
    "This function below is called from the bow_train_split where we use the bag of words method in the train data using train_test_split(). We used this way in order to have results quickly and later we will use the train and test data."
   ]
  },
  {
   "cell_type": "code",
   "execution_count": null,
   "metadata": {},
   "outputs": [],
   "source": [
    "from sklearn.feature_extraction.text import CountVectorizer \n",
    "\n",
    "def bag_of_words(tweets):\n",
    "    bow_vectorizer = CountVectorizer(max_df=0.90, min_df=2, max_features=1000, stop_words='english')\n",
    "    index = 0\n",
    "    for tweet in tweets:\n",
    "        tweets[index] = ' '.join(tweet)\n",
    "        index = index + 1  \n",
    "    bow_xtrain = bow_vectorizer.fit_transform(tweets)  #TWEETS : a list with the actual tweets \n",
    "    return bow_xtrain"
   ]
  },
  {
   "cell_type": "markdown",
   "metadata": {},
   "source": [
    "Bag of words with train split. We will first do preproccessing --> removePuctuation, removeStopwords and create a bag of words model with the bag_of_words() function that we created above."
   ]
  },
  {
   "cell_type": "code",
   "execution_count": null,
   "metadata": {},
   "outputs": [],
   "source": [
    "import time\n",
    "start = time.time()\n",
    "\n",
    "import pandas as pd\n",
    "#train_file = r'./small_train.tsv'\n",
    "train_file = r'../twitter_data/train2017.tsv'\n",
    "\n",
    "train_dataframe = pd.read_csv(train_file, sep='\\t', names=['ID1','ID2','Sentiment','Tweet'])\n",
    "from sklearn.model_selection import train_test_split\n",
    "\n",
    "#Preproccessing (train tweets)\n",
    "train_tweets = removePunctuation(train_dataframe)  \n",
    "filtered_train_tweets = removeStopwords(train_tweets)\n",
    "bow_xtrain = bag_of_words(filtered_train_tweets)\n",
    "\n",
    "xtrain_bow, xvalid_bow, ytrain, yvalid = train_test_split(bow_xtrain, train_dataframe['Sentiment'], random_state=42, test_size=0.2) #input for this method is any array of features\n"
   ]
  },
  {
   "cell_type": "markdown",
   "metadata": {},
   "source": [
    "After the preproccessing we will do the classification. First we will use KNN with n_neighbors=1 and then SVM. We use both accuracy_score() and f1_score() to see the accuracy."
   ]
  },
  {
   "cell_type": "code",
   "execution_count": null,
   "metadata": {},
   "outputs": [],
   "source": [
    "#Classification with KNN\n",
    "from sklearn.neighbors import KNeighborsClassifier\n",
    "knn = KNeighborsClassifier(n_neighbors=1)\n",
    "knn.fit(xtrain_bow , ytrain)\n",
    "pred_Y = knn.predict(xvalid_bow)\n",
    "\n",
    "# compute classification accuracy for the logistic regression model\n",
    "from sklearn import metrics\n",
    "print(\"Bag of words/KNN\\nmetrics.accuracy_score(yvalid, pred_Y)=\")\n",
    "print(metrics.accuracy_score(yvalid, pred_Y))\n",
    "print(\"\\n\")\n",
    "\"\"\"\n",
    "print(\"yvalid=\")\n",
    "print(yvalid)\n",
    "print(\"pred_Y=\")\n",
    "print(pred_Y)\n",
    "\"\"\"\n",
    "from sklearn.metrics import f1_score\n",
    "import numpy as np\n",
    "print(\"Bag of words/KNN\\nf1_score(average=micro)=\")\n",
    "print(f1_score(yvalid, pred_Y, average='micro', labels=np.unique(pred_Y))) #seems the same as with accuracy\n",
    "print(\"\\n\")\n",
    "\n",
    "#Classification with SVM\n",
    "from sklearn import svm\n",
    "svc = svm.SVC(kernel='linear', C=1, probability=True)\n",
    "svc = svc.fit(xtrain_bow, ytrain)\n",
    "pred_Y = svc.predict(xvalid_bow)\n",
    "\n",
    "print(\"Bag of words/SVM\\nf1_score(average=macro)=\")\n",
    "print(f1_score(yvalid, pred_Y, average='macro'))\n",
    "\n",
    "end = time.time()\n",
    "print()\n",
    "print(end-start)"
   ]
  },
  {
   "cell_type": "markdown",
   "metadata": {},
   "source": [
    "We will use now bag of words with train and test data. Below we do the preproccessing and later we will do the classification."
   ]
  },
  {
   "cell_type": "code",
   "execution_count": null,
   "metadata": {},
   "outputs": [],
   "source": [
    "import time\n",
    "start = time.time()\n",
    "\n",
    "#train_file = r'./small_train.tsv'\n",
    "#test_file = r'./small_test.tsv'\n",
    "#test_solutions = r'./small_test_solutions.tsv'\n",
    "\n",
    "train_file = r'../twitter_data/train2017.tsv'\n",
    "test_file = r'../twitter_data/test2017.tsv'\n",
    "test_solutions = r'../twitter_data/SemEval2017_task4_subtaskA_test_english_gold.txt'\n",
    "\n",
    "train_dataframe = pd.read_csv(train_file, sep='\\t', names=['ID1','ID2','Sentiment','Tweet'])\n",
    "test_dataframe = pd.read_csv(test_file, sep='\\t', names=['ID1','ID2','Sentiment','Tweet'])\n",
    "test_solutions_dataframe = pd.read_csv(test_solutions, sep='\\t', names=['ID','Sentiment'])\n",
    "\n",
    "#Preproccessing (train tweets)\n",
    "train_tweets = removePunctuation(train_dataframe)  \n",
    "filtered_train_tweets = removeStopwords(train_tweets)\n",
    "\n",
    "bow_vectorizer = CountVectorizer(max_df=0.90, min_df=2, max_features=1000, stop_words='english')\n",
    "index = 0\n",
    "for tweet in filtered_train_tweets:\n",
    "    filtered_train_tweets[index] = ' '.join(tweet)\n",
    "    index = index + 1  \n",
    "xtrain_bow = bow_vectorizer.fit_transform(filtered_train_tweets)  #TWEETS : a list with the actual tweets\n",
    "\n",
    "#Preproccessing (test tweets)\n",
    "test_tweets = removePunctuation(test_dataframe)\n",
    "filtered_test_tweets = removeStopwords(test_tweets)\n",
    "\n",
    "index = 0\n",
    "for tweet in filtered_test_tweets:\n",
    "    filtered_test_tweets[index] = ' '.join(tweet)\n",
    "    index = index + 1  \n",
    "xvalid_bow = bow_vectorizer.transform(filtered_test_tweets) # transform is needed to have the same dimension like xtrain_bow\n",
    "\n",
    "#Calculate ytrain\n",
    "train_sentiment = []\n",
    "for x in range(len(train_dataframe)): \n",
    "    train_sentiment.append(train_dataframe['Sentiment'][x])\n",
    "ytrain = np.array(train_sentiment)\n",
    "\n",
    "#Calculate yvalid\n",
    "test_sentiment = []\n",
    "for x in range(len(test_solutions_dataframe)): \n",
    "    test_sentiment.append(test_solutions_dataframe['Sentiment'][x])\n",
    "yvalid = np.array(test_sentiment)"
   ]
  },
  {
   "cell_type": "markdown",
   "metadata": {},
   "source": [
    "Now we will do the classification."
   ]
  },
  {
   "cell_type": "code",
   "execution_count": null,
   "metadata": {},
   "outputs": [],
   "source": [
    "#Classification with KNN\n",
    "from sklearn.neighbors import KNeighborsClassifier\n",
    "knn = KNeighborsClassifier(n_neighbors=1)\n",
    "knn.fit(xtrain_bow , ytrain)\n",
    "pred_Y = knn.predict(xvalid_bow)\n",
    "\n",
    "# compute classification accuracy for the logistic regression model\n",
    "from sklearn import metrics\n",
    "print(\"Bag of words/KNN\\nmetrics.accuracy_score(yvalid, pred_Y)=\")\n",
    "print(metrics.accuracy_score(yvalid, pred_Y))\n",
    "print(\"\\n\")\n",
    "\"\"\"\n",
    "print(\"yvalid=\")\n",
    "print(yvalid)\n",
    "print(\"pred_Y=\")\n",
    "print(pred_Y)\n",
    "\"\"\"\n",
    "from sklearn.metrics import f1_score\n",
    "import numpy as np\n",
    "print(\"Bag of words/KNN\\nf1_score(average=micro)=\")\n",
    "print(f1_score(yvalid, pred_Y, average='micro', labels=np.unique(pred_Y))) #seems the same as with accuracy\n",
    "print(\"\\n\")\n",
    "\n",
    "#Classification with SVM\n",
    "from sklearn import svm\n",
    "svc = svm.SVC(kernel='linear', C=1, probability=True)\n",
    "svc = svc.fit(xtrain_bow, ytrain)\n",
    "pred_Y = svc.predict(xvalid_bow)\n",
    "\n",
    "print(\"Bag of words/SVM\\nf1_score(average=macro)=\")\n",
    "print(f1_score(yvalid, pred_Y, average='macro'))\n",
    "\n",
    "end = time.time()\n",
    "print()\n",
    "print(end-start)"
   ]
  },
  {
   "cell_type": "markdown",
   "metadata": {},
   "source": [
    "Below we can see the different results that bag of words produced with different values in Knn's n_neighbors which is the number of neighbors. We also put the result from svm in order to compare it with the one from Knn. The green is the best value and the red is the words value."
   ]
  },
  {
   "cell_type": "code",
   "execution_count": null,
   "metadata": {},
   "outputs": [],
   "source": [
    "from IPython.display import Image\n",
    "Image(\"./images/classification/bow.png\")"
   ]
  },
  {
   "cell_type": "markdown",
   "metadata": {},
   "source": [
    "This is the Tfidf() function that we created and it makes, fit_transforms and returns a tfidf model."
   ]
  },
  {
   "cell_type": "code",
   "execution_count": null,
   "metadata": {},
   "outputs": [],
   "source": [
    "from sklearn.feature_extraction.text import TfidfVectorizer\n",
    "    \n",
    "def Tfidf(tweets):\n",
    "    tfidf_vectorizer = TfidfVectorizer(max_df=0.90, min_df=2, max_features=1000, stop_words='english')\n",
    "    index = 0\n",
    "    for tweet in tweets:\n",
    "        tweets[index] = ' '.join(tweet)\n",
    "        index = index + 1  \n",
    "    tfidf = tfidf_vectorizer.fit_transform(tweets)\n",
    "    return tfidf"
   ]
  },
  {
   "cell_type": "markdown",
   "metadata": {},
   "source": [
    "Tfidf with train_test_split(). \n",
    "Preprocessing:"
   ]
  },
  {
   "cell_type": "code",
   "execution_count": null,
   "metadata": {},
   "outputs": [],
   "source": [
    "import time\n",
    "start = time.time()\n",
    "\n",
    "import pandas as pd\n",
    "train_file = r'../twitter_data/train2017.tsv'\n",
    "\n",
    "train_dataframe = pd.read_csv(train_file, sep='\\t', names=['ID1','ID2','Sentiment','Tweet'])\n",
    "from sklearn.model_selection import train_test_split\n",
    "\n",
    "#Preproccessing (train tweets)\n",
    "train_tweets = removePunctuation(train_dataframe)  \n",
    "filtered_train_tweets = removeStopwords(train_tweets)\n",
    "tfidf_xtrain = Tfidf(filtered_train_tweets)\n",
    "\n",
    "xtrain_tfidf, xvalid_tfidf, ytrain, yvalid = train_test_split(tfidf_xtrain, train_dataframe['Sentiment'], random_state=42, test_size=0.2) #input for this method is any array of features\n"
   ]
  },
  {
   "cell_type": "markdown",
   "metadata": {},
   "source": [
    "Classification:"
   ]
  },
  {
   "cell_type": "code",
   "execution_count": null,
   "metadata": {},
   "outputs": [],
   "source": [
    "#Classification with KNN\n",
    "from sklearn.neighbors import KNeighborsClassifier\n",
    "knn = KNeighborsClassifier(n_neighbors=1)\n",
    "knn.fit(xtrain_tfidf , ytrain)\n",
    "pred_Y = knn.predict(xvalid_tfidf)\n",
    "\n",
    "# compute classification accuracy for the logistic regression model\n",
    "from sklearn import metrics\n",
    "print(\"TFIDF/KNN\\nmetrics.accuracy_score(yvalid, pred_Y)=\")\n",
    "print(metrics.accuracy_score(yvalid, pred_Y))\n",
    "print(\"\\n\")\n",
    "\"\"\"\n",
    "print(\"yvalid=\")\n",
    "print(yvalid)\n",
    "print(\"pred_Y=\")\n",
    "print(pred_Y)\n",
    "\"\"\"\n",
    "\n",
    "from sklearn.metrics import f1_score\n",
    "import numpy as np\n",
    "print(\"TFIDF/KNN\\nf1_score(average=micro)=\")\n",
    "print(f1_score(yvalid, pred_Y, average='micro', labels=np.unique(pred_Y))) #seems the same as with accuracy\n",
    "print(\"\\n\")\n",
    "\n",
    "#Classification with SVM\n",
    "from sklearn import svm\n",
    "svc = svm.SVC(kernel='linear', C=1, probability=True)\n",
    "svc = svc.fit(xtrain_tfidf, ytrain)\n",
    "pred_Y = svc.predict(xvalid_tfidf)\n",
    "\n",
    "print(\"TFIDF/SVM\\nf1_score(average=macro)=\")\n",
    "print(f1_score(yvalid, pred_Y, average='macro'))\n",
    "\n",
    "end = time.time()\n",
    "print()\n",
    "print(end-start)"
   ]
  },
  {
   "cell_type": "markdown",
   "metadata": {},
   "source": [
    "Tfidf with train test data. Preproccessing:"
   ]
  },
  {
   "cell_type": "code",
   "execution_count": null,
   "metadata": {},
   "outputs": [],
   "source": [
    "import time\n",
    "start = time.time()\n",
    "\n",
    "import numpy as np\n",
    "import pandas as pd\n",
    "\n",
    "train_file = r'../twitter_data/train2017.tsv'\n",
    "test_file = r'../twitter_data/test2017.tsv'\n",
    "test_solutions = r'../twitter_data/SemEval2017_task4_subtaskA_test_english_gold.txt'\n",
    "\n",
    "train_dataframe = pd.read_csv(train_file, sep='\\t', names=['ID1','ID2','Sentiment','Tweet'])\n",
    "test_dataframe = pd.read_csv(test_file, sep='\\t', names=['ID1','ID2','Sentiment','Tweet'])\n",
    "test_solutions_dataframe = pd.read_csv(test_solutions, sep='\\t', names=['ID','Sentiment'])\n",
    "\n",
    "from sklearn.feature_extraction.text import TfidfVectorizer\n",
    "\n",
    "#Preproccessing (train tweets)\n",
    "train_tweets = removePunctuation(train_dataframe)  \n",
    "filtered_train_tweets = removeStopwords(train_tweets)\n",
    "\n",
    "tfidf_vectorizer = TfidfVectorizer(max_df=0.90, min_df=2, max_features=1000, stop_words='english') \n",
    "index = 0\n",
    "for tweet in filtered_train_tweets:\n",
    "    filtered_train_tweets[index] = ' '.join(tweet)\n",
    "    index = index + 1  \n",
    "xtrain_tfidf = tfidf_vectorizer.fit_transform(filtered_train_tweets)  #TWEETS : a list with the actual tweets\n",
    "\n",
    "#Preproccessing (test tweets)\n",
    "test_tweets = removePunctuation(test_dataframe)\n",
    "filtered_test_tweets = removeStopwords(test_tweets)\n",
    "\n",
    "index = 0\n",
    "for tweet in filtered_test_tweets:\n",
    "    filtered_test_tweets[index] = ' '.join(tweet)\n",
    "    index = index + 1  \n",
    "xvalid_tfidf = tfidf_vectorizer.transform(filtered_test_tweets) # transform is needed to have the same dimension like xtrain_bow\n",
    "\n",
    "#Calculate ytrain\n",
    "train_sentiment = []\n",
    "for x in range(len(train_dataframe)): \n",
    "    train_sentiment.append(train_dataframe['Sentiment'][x])\n",
    "ytrain = np.array(train_sentiment)\n",
    "\n",
    "#Calculate yvalid\n",
    "test_sentiment = []\n",
    "for x in range(len(test_solutions_dataframe)): \n",
    "    test_sentiment.append(test_solutions_dataframe['Sentiment'][x])\n",
    "yvalid = np.array(test_sentiment)"
   ]
  },
  {
   "cell_type": "markdown",
   "metadata": {},
   "source": [
    "Classification:"
   ]
  },
  {
   "cell_type": "code",
   "execution_count": null,
   "metadata": {
    "scrolled": true
   },
   "outputs": [],
   "source": [
    "#Classification with KNN\n",
    "from sklearn.neighbors import KNeighborsClassifier\n",
    "knn = KNeighborsClassifier(n_neighbors=1)\n",
    "knn.fit(xtrain_tfidf , ytrain)\n",
    "pred_Y = knn.predict(xvalid_tfidf)\n",
    "\n",
    "# compute classification accuracy for the logistic regression model\n",
    "from sklearn import metrics\n",
    "print(\"TFIDF/KNN\\nmetrics.accuracy_score(yvalid, pred_Y)=\")\n",
    "print(metrics.accuracy_score(yvalid, pred_Y))\n",
    "print(\"\\n\")\n",
    "\"\"\"\n",
    "print(\"yvalid=\")\n",
    "print(yvalid)\n",
    "print(\"pred_Y=\")\n",
    "print(pred_Y)\n",
    "\"\"\"\n",
    "from sklearn.metrics import f1_score\n",
    "import numpy as np\n",
    "print(\"TFIDF/KNN\\nf1_score(average=micro)=\")\n",
    "print(f1_score(yvalid, pred_Y, average='micro', labels=np.unique(pred_Y))) #seems the same as with accuracy\n",
    "print(\"\\n\")\n",
    "\n",
    "#Classification with SVM\n",
    "from sklearn import svm\n",
    "svc = svm.SVC(kernel='linear', C=1, probability=True)\n",
    "svc = svc.fit(xtrain_tfidf, ytrain)\n",
    "pred_Y = svc.predict(xvalid_tfidf)\n",
    "\n",
    "print(\"TFIDF/SVM\\nf1_score(average=macro)=\")\n",
    "print(f1_score(yvalid, pred_Y, average='macro'))\n",
    "\n",
    "end = time.time()\n",
    "print()\n",
    "print(end-start)"
   ]
  },
  {
   "cell_type": "markdown",
   "metadata": {},
   "source": [
    "Again, below we can see the different results that tfidf produced with different values in Knn's n_neighbors. We also put the result from svm in order to compare it with the one from Knn. The green is the best value and the red is the words value."
   ]
  },
  {
   "cell_type": "code",
   "execution_count": null,
   "metadata": {
    "scrolled": true
   },
   "outputs": [],
   "source": [
    "from IPython.display import Image\n",
    "Image(\"./images/classification/tfidf.png\")"
   ]
  },
  {
   "cell_type": "markdown",
   "metadata": {},
   "source": [
    "Below we have the tweetVectorization() function that is being used in order to transform every tweet into a vector of features. We call this function whenever we want to use word2vec for the vectorization.  "
   ]
  },
  {
   "cell_type": "code",
   "execution_count": null,
   "metadata": {},
   "outputs": [],
   "source": [
    "from gensim.test.utils import common_texts, get_tmpfile\n",
    "from gensim.models import Word2Vec\n",
    "import numpy as np\n",
    "import pandas as pd\n",
    "\n",
    "def tweetVectorization(filtered_sentences):\n",
    "    \"\"\"\n",
    "    model_w2v = Word2Vec(\n",
    "                filtered_sentences,\n",
    "                size=200, # desired no. of features/independent variables\n",
    "                window=5, # context window size\n",
    "                min_count=2,\n",
    "                sg = 1, # 1 for skip-gram model\n",
    "                hs = 0,\n",
    "                negative = 10, # for negative sampling\n",
    "                workers= 2, # no.of cores\n",
    "                seed = 34) \n",
    "\n",
    "    model_w2v.train(filtered_sentences, total_examples= len(filtered_sentences), epochs=20)\n",
    "    \"\"\"\n",
    "    model_w2v = Word2Vec.load('model_w2v.bin')\n",
    "    words = list(model_w2v.wv.vocab)\n",
    "    \n",
    "    dataframe = pd.DataFrame()\n",
    "    tweet_counter = 0\n",
    "    for sentence in range(len(filtered_sentences)):\n",
    "        counter = 0\n",
    "        sum = np.zeros((1,200))\n",
    "        tweet_counter += 1 \n",
    "        for word in range(len(filtered_sentences[sentence])):\n",
    "            counter+=1\n",
    "            #print(filtered_sentences[sentence][word])\n",
    "            if(filtered_sentences[sentence][word] in words):\n",
    "                sum += model_w2v.wv[filtered_sentences[sentence][word]]\n",
    "            else:\n",
    "                # 1) do nothing (such as add a vector of zeroes/zeros)\n",
    "                # 2) add to sum a vector of mean of the current sum (if the first word is \"missing value\" then sum remains zero)\n",
    "                \"\"\"\n",
    "                sum += np.divide(sum, counter)\n",
    "                \"\"\"\n",
    "                # 3) get the max and the min of mean of the current sum and create a vector with random numbers between [min,max]\n",
    "                \n",
    "                min = np.amin(np.divide(sum, counter))\n",
    "                max = np.amax(np.divide(sum, counter))\n",
    "                sum += np.random.uniform(low=min, high=max, size=len(sum))\n",
    "                \n",
    "                # 4) add a vector of random values in a random range\n",
    "                \"\"\"\n",
    "                sum += np.random.uniform(low=-1.5243325, high=1.5068232, size=len(sum))\n",
    "                \"\"\"\n",
    "        if (counter == 0):\n",
    "            counter = 1   \n",
    "        vector = np.divide(sum, counter)\n",
    "        df = pd.DataFrame(vector) \n",
    "        dataframe = dataframe.append(df)\n",
    "    return dataframe"
   ]
  },
  {
   "cell_type": "markdown",
   "metadata": {},
   "source": [
    "After we have trained our word2vec model then we have a vocabulary from our given tweets and every word inside it has 200 features. We use tsne in order to have dimensionality reduction and be able to have a plot in 2 dimensions for the vocabulary. Since the size of the vocabulary is too big and the plot is not clear we reduced the words that would appear to the tsne plot in only 140.  "
   ]
  },
  {
   "cell_type": "code",
   "execution_count": null,
   "metadata": {},
   "outputs": [],
   "source": [
    "from IPython.display import Image\n",
    "Image(\"./images/tsne_plots/tsne_140.png\")"
   ]
  },
  {
   "cell_type": "markdown",
   "metadata": {},
   "source": [
    "The tsne_plot() function that we used in order to produce the result above."
   ]
  },
  {
   "cell_type": "code",
   "execution_count": null,
   "metadata": {},
   "outputs": [],
   "source": [
    "\"\"\"\n",
    "from sklearn.manifold import TSNE\n",
    "import matplotlib.pyplot as plt\n",
    "\n",
    "def tsne_plot(model):\n",
    "    \"Creates and TSNE model and plots it\"\n",
    "    labels = []\n",
    "    tokens = []\n",
    "    for word in model.wv.vocab:\n",
    "        tokens.append(model[word])\n",
    "        labels.append(word)\n",
    "    \n",
    "    tsne_model = TSNE(perplexity=40, n_components=2, init='pca', n_iter=2500, random_state=23)\n",
    "    new_values = tsne_model.fit_transform(tokens)\n",
    "\n",
    "    x = []\n",
    "    y = []\n",
    "\n",
    "    for value in new_values:\n",
    "        x.append(value[0])\n",
    "        y.append(value[1])\n",
    "        \n",
    "    plt.figure(figsize=(16, 16)) \n",
    "    for i in range(len(x)):\n",
    "        plt.scatter(x[i],y[i])\n",
    "        plt.annotate(labels[i],\n",
    "                    xy=(x[i], y[i]),\n",
    "                    xytext=(5, 2),\n",
    "            textcoords='offset points',\n",
    "                        ha='right',\n",
    "                        va='bottom')\n",
    "    plt.show()\n",
    "\"\"\""
   ]
  },
  {
   "cell_type": "markdown",
   "metadata": {},
   "source": [
    "Below we have the functions that are being used in order to search the vocabularies and extract extra features for our vectors, (this is not the bonus part). "
   ]
  },
  {
   "cell_type": "code",
   "execution_count": null,
   "metadata": {},
   "outputs": [],
   "source": [
    "#extra features from vocabularies (THIS IS NOT THE BONUS)\n",
    "def voc_feature(tweets, lexico_dict):\n",
    "    meanValenceFeature = []\n",
    "\n",
    "    for tweet in tweets:                                    #for every tweet\n",
    "        counter = 0\n",
    "        sum = 0\n",
    "        for word in tweet:                                  #for every word\n",
    "            if (word in lexico_dict['value'].keys()):       #if word is in dictionary\n",
    "                sum += lexico_dict['value'][word]           #count in its' value\n",
    "                counter += 1\n",
    "        if (counter == 0):                                  #if we cannot find any word inside vocabulary we just add zero as extra vocabulary feature for this tweet\n",
    "            counter = 1\n",
    "        new_feature = sum/counter                           #the new_feature is the mean of the sum of words' values\n",
    "        meanValenceFeature.append(new_feature)              #finally, we create this list to hold the extra feature column\n",
    "    return meanValenceFeature\n",
    "\n",
    "#tweetLength\n",
    "def bonus_feature(tweets):\n",
    "    tweetLength = []\n",
    "\n",
    "    for tweet in tweets:\n",
    "        tweetLength.append(len(tweet))                      #we create this list to hold the extra feature(tweet's length) column\n",
    "    return tweetLength\n",
    "\n",
    "#Max, min valence of tweet\n",
    "def bonus_feature_min_max_valence(tweets, lecixo_dict):\n",
    "\tminValenceFeature = []\n",
    "\tmaxValenceFeature = []\n",
    "\tfor tweet in tweets:                                    #for every tweet\n",
    "\t\tmin_tweet_valence = 5                               #random minimum value\n",
    "\t\tmax_tweet_valence = -5                              #random maximum value\n",
    "\t\tfor word in tweet:                                  #for every word\n",
    "\t\t\tif (word in lecixo_dict['value'].keys()):       #find minimum and maximum valence from all its words\n",
    "\t\t\t\tif (min_tweet_valence > lecixo_dict['value'][word]):\n",
    "\t\t\t\t\tmin_tweet_valence = lecixo_dict['value'][word]\n",
    "\t\t\t\tif (max_tweet_valence < lecixo_dict['value'][word]):\n",
    "\t\t\t\t\tmax_tweet_valence = lecixo_dict['value'][word]\n",
    "\t\tminValenceFeature.append(min_tweet_valence)\n",
    "\t\tmaxValenceFeature.append(max_tweet_valence)\n",
    "\treturn minValenceFeature, maxValenceFeature             #return two lists as the extra features columns"
   ]
  },
  {
   "cell_type": "markdown",
   "metadata": {},
   "source": [
    "We run the word2vec vectorization with the vocabularies: valence_tweet.txt, affin.txt, generic,txt, val.txt plus we have the bonus. The bonus is that we have put some extra features in the vectors except from the vocabularies. First of all we added the length of every tweet in the vector. We also found the min and max valence for every tweet and put it too. \n",
    "\n",
    "Note: min valence is the smallest valence that we found in the tweet and max valence is the largest valence that we found. "
   ]
  },
  {
   "cell_type": "markdown",
   "metadata": {},
   "source": [
    "Word2vec with all vocabularies plus bonus:"
   ]
  },
  {
   "cell_type": "code",
   "execution_count": null,
   "metadata": {
    "scrolled": false
   },
   "outputs": [],
   "source": [
    "import time\n",
    "start = time.time()\n",
    "import numpy as np\n",
    "import pandas as pd\n",
    "from nltk import word_tokenize\n",
    "\n",
    "train_file = r'../twitter_data/train2017.tsv'\n",
    "test_file = r'../twitter_data/test2017.tsv'\n",
    "test_solutions = r'../twitter_data/SemEval2017_task4_subtaskA_test_english_gold.txt'\n",
    "\n",
    "train_dataframe = pd.read_csv(train_file, sep='\\t', names=['ID1','ID2','Sentiment','Tweet'])\n",
    "test_dataframe = pd.read_csv(test_file, sep='\\t', names=['ID1','ID2','Sentiment','Tweet'])\n",
    "test_solutions_dataframe = pd.read_csv(test_solutions, sep='\\t', names=['ID','Sentiment'])\n",
    "\n",
    "train_tweets = []                                                        \n",
    "for x in range(len(train_dataframe)):                                 \n",
    "    train_tweets.append(train_dataframe['Tweet'][x])                    #append only the Tweet column to the list\n",
    "\n",
    "train_tokens = []\n",
    "for x in range(len(train_tweets)):                                      #for every tweet in list of tweets\n",
    "    train_tokens.append(word_tokenize(train_tweets[x]))                 #tokenize the tweet and append it to the list of tokens\n",
    "\n",
    "test_tweets = []                                                        \n",
    "for x in range(len(test_dataframe)):                                 \n",
    "    test_tweets.append(test_dataframe['Tweet'][x])                      #append only the Tweet column to the list\n",
    "\n",
    "test_tokens = []\n",
    "for x in range(len(test_tweets)):                                       #for every tweet in list of tweets\n",
    "    test_tokens.append(word_tokenize(test_tweets[x]))                   #tokenize the tweet and append it to the list of tokens\n",
    "\n",
    "train_voc_features = []                                                 #this will be a list of lists and every list inside it will be a new column for the vector         \n",
    "test_voc_features = []                                                  #this will be a list of lists and every list inside it will be a new column for the vector\n",
    "\n",
    "lexico = r'../lexica/emotweet/valence_tweet.txt'                           \n",
    "lexico_dataframe = pd.read_csv(lexico, sep='\\t', names=['word', 'value']) #read lexico as a dataframe\n",
    "lexico_dict = lexico_dataframe.set_index('word').to_dict(orient='dict')   #convert it to a dictionary in order to be much faster when we search a word inside it\n",
    "#print(lexico_dict['value']['nba'])\n",
    "train_voc_features.append(voc_feature(train_tokens,lexico_dict))          #call voc_feature() and append the list with the features from this lexico to the list of all features\n",
    "test_voc_features.append(voc_feature(test_tokens,lexico_dict))            #do the same as above for the test data\n",
    "#Bonus features (Min, Max Tweet Valence)\n",
    "train_minValenceFeature, train_maxValenceFeature = bonus_feature_min_max_valence(train_tokens, lexico_dict)  #find min and max valence from all tokens from a tweet in lexico\n",
    "test_minValenceFeature, test_maxValenceFeature = bonus_feature_min_max_valence(test_tokens, lexico_dict)     #we do the same for test data\n",
    "train_voc_features.append(train_minValenceFeature)                        #just append the new column with features\n",
    "train_voc_features.append(train_maxValenceFeature)                        #just append the new column with features\n",
    "test_voc_features.append(test_minValenceFeature)                          #just append the new column with features\n",
    "test_voc_features.append(test_maxValenceFeature)                          #just append the new column with features\n",
    "  \n",
    "lexico = r'../lexica/affin/affin.txt'\n",
    "lexico_dataframe = pd.read_csv(lexico, sep='\\t', names=['word', 'value'])\n",
    "lexico_dict = lexico_dataframe.set_index('word').to_dict(orient='dict')\n",
    "#print(lexico_dict['value']['nba'])\n",
    "train_voc_features.append(voc_feature(train_tokens,lexico_dict))\n",
    "test_voc_features.append(voc_feature(test_tokens,lexico_dict))\n",
    "#Bonus features (Min, Max Tweet Valence)\n",
    "train_minValenceFeature, train_maxValenceFeature = bonus_feature_min_max_valence(train_tokens, lexico_dict)\n",
    "test_minValenceFeature, test_maxValenceFeature = bonus_feature_min_max_valence(test_tokens, lexico_dict)\n",
    "train_voc_features.append(train_minValenceFeature)\n",
    "train_voc_features.append(train_maxValenceFeature)\n",
    "test_voc_features.append(test_minValenceFeature)\n",
    "test_voc_features.append(test_maxValenceFeature)\n",
    "\n",
    "lexico = r'../lexica/generic/generic.txt'\n",
    "lexico_dataframe = pd.read_csv(lexico, sep='\\t', names=['word', 'value'])\n",
    "lexico_dict = lexico_dataframe.set_index('word').to_dict(orient='dict')\n",
    "#print(lexico_dict['value']['nba'])\n",
    "train_voc_features.append(voc_feature(train_tokens,lexico_dict))\n",
    "test_voc_features.append(voc_feature(test_tokens,lexico_dict))\n",
    "#Bonus features (Min, Max Tweet Valence)\n",
    "train_minValenceFeature, train_maxValenceFeature = bonus_feature_min_max_valence(train_tokens, lexico_dict)\n",
    "test_minValenceFeature, test_maxValenceFeature = bonus_feature_min_max_valence(test_tokens, lexico_dict)\n",
    "train_voc_features.append(train_minValenceFeature)\n",
    "train_voc_features.append(train_maxValenceFeature)\n",
    "test_voc_features.append(test_minValenceFeature)\n",
    "test_voc_features.append(test_maxValenceFeature)\n",
    "\n",
    "lexico = r'../lexica/nrctag/val.txt'\n",
    "lexico_dataframe = pd.read_csv(lexico, sep='\\t', names=['word', 'value'])\n",
    "lexico_dict = lexico_dataframe.set_index('word').to_dict(orient='dict')\n",
    "#print(lexico_dict['value']['nba'])\n",
    "train_voc_features.append(voc_feature(train_tokens, lexico_dict))\n",
    "test_voc_features.append(voc_feature(test_tokens, lexico_dict))\n",
    "#Bonus features (Min, Max Tweet Valence)\n",
    "train_minValenceFeature, train_maxValenceFeature = bonus_feature_min_max_valence(train_tokens, lexico_dict)\n",
    "test_minValenceFeature, test_maxValenceFeature = bonus_feature_min_max_valence(test_tokens, lexico_dict)\n",
    "train_voc_features.append(train_minValenceFeature)\n",
    "train_voc_features.append(train_maxValenceFeature)\n",
    "test_voc_features.append(test_minValenceFeature)\n",
    "test_voc_features.append(test_maxValenceFeature)\n",
    "\n",
    "#Bonus Features\n",
    "train_voc_features.append(bonus_feature(train_tokens))  #this is another extra feature that we will use, it is the length of the tweet\n",
    "test_voc_features.append(bonus_feature(test_tokens))     \n",
    "\n",
    "#Preproccessing (train tweets)\n",
    "train_tweets = removePunctuation(train_dataframe)       #remove punctuation from train tweets\n",
    "filtered_train_tweets = removeStopwords(train_tweets)   #remove english stopwords from train tweets\n",
    "\n",
    "#WORD2VEC\n",
    "train_vector_dataframe = tweetVectorization(filtered_train_tweets)  #create a vector for every train tweet\n",
    "\n",
    "#Preproccessing (test tweets) \n",
    "test_tweets = removePunctuation(test_dataframe)         #remove punctuation from test tweets\n",
    "filtered_test_tweets = removeStopwords(test_tweets)     #remove english stopwords from test tweets\n",
    "\n",
    "#WORD2VEC\n",
    "test_vector_dataframe = tweetVectorization(filtered_test_tweets)    #create a vector for every test tweet\n",
    "\n",
    "train_X = train_vector_dataframe.values                 #we take the values of the vector as a numpy array\n",
    "\n",
    "for x in range(len(train_voc_features)):                #for every list of features inside the list train_voc_features\n",
    "    new_features = np.array(train_voc_features[x])      #we convert the list to a numpy array\n",
    "    new_features = np.reshape(new_features,(len(train_voc_features[x]),1)) #we reshape from (200,) to(200,1)\n",
    "    train_X = np.append(train_X, new_features,axis=1)   #now we append this list as a column in the train_X numpy array\n",
    "\n",
    "#Extra features\n",
    "test_X = test_vector_dataframe.values                   #we take the values of the vector as a numpy array\n",
    "\n",
    "for x in range(len(test_voc_features)):\n",
    "    new_features = np.array(test_voc_features[x])\n",
    "    new_features = np.reshape(new_features,(len(test_voc_features[x]),1))\n",
    "    test_X = np.append(test_X, new_features,axis=1)\n",
    "\n",
    "train_sentiment = []\n",
    "for x in range(len(train_dataframe)):                       #for every tweet in the train_dataframe\n",
    "    train_sentiment.append(train_dataframe['Sentiment'][x]) #we take the sentiment and append it in a list\n",
    "train_Y = np.array(train_sentiment)                         #we convert this list in a numpy array named train_Y as the solutions for the train data\n",
    "\n",
    "test_sentiment = []\n",
    "for x in range(len(test_solutions_dataframe)): \n",
    "    test_sentiment.append(test_solutions_dataframe['Sentiment'][x])\n",
    "test_Y = np.array(test_sentiment)\n",
    "\n",
    "#Classification with KNN\n",
    "from sklearn.neighbors import KNeighborsClassifier\n",
    "knn = KNeighborsClassifier(n_neighbors=30)\n",
    "#WORD2VEC\n",
    "knn.fit(train_X , train_Y)\n",
    "pred_Y = knn.predict(test_X)\n",
    "\n",
    "# compute classification accuracy for the logistic regression model\n",
    "from sklearn import metrics\n",
    "print(\"Word2vec(word embeddings)/KNN\\nmetrics.accuracy_score(test_Y, pred_Y)=\")\n",
    "print(metrics.accuracy_score(test_Y, pred_Y))\n",
    "\n",
    "from sklearn.metrics import f1_score\n",
    "print(\"Word2vec(word embeddings)/KNN\\nf1_score(test_Y, pred_Y, average='micro', labels=np.unique(pred_Y))=\")\n",
    "print(f1_score(test_Y, pred_Y, average='micro', labels=np.unique(pred_Y))) #seems the same as with accuracy\n",
    "\n",
    "#Classification with SVM\n",
    "from sklearn import svm\n",
    "svc = svm.SVC(kernel='linear', C=1, probability=True)\n",
    "svc = svc.fit(train_X, train_Y)\n",
    "pred_Y = svc.predict(test_X)\n",
    "\n",
    "print(\"Word2vec(word embeddings)/SVM\\nmetrics.accuracy_score(test_Y, pred_Y)=\")\n",
    "print(metrics.accuracy_score(test_Y, pred_Y))\n",
    "print(\"Word2vec(word embeddings)/SVM\\nf1_score(test_Y, pred_Y, average='macro')=\")\n",
    "print(f1_score(test_Y, pred_Y, average='macro'))\n",
    "\n",
    "end = time.time()\n",
    "print()\n",
    "print(end-start)"
   ]
  },
  {
   "cell_type": "markdown",
   "metadata": {},
   "source": [
    "Below we have 2 tables in order to see the results that we had while running word2vec: 1) without vocabularies, 2) only with valence_tweet.txt, 3) only with affin.txt, 4) only with generic.txt, 5) only with val.txt, 6) with all vocabularies and 7) with all vocabularies + bonus\n",
    "\n",
    "Note: In Knn the number of neighbors is 1 (n_neighbors=1)."
   ]
  },
  {
   "cell_type": "code",
   "execution_count": null,
   "metadata": {},
   "outputs": [],
   "source": [
    "from IPython.display import Image\n",
    "Image(\"./images/classification/word2vecknn1.png\")"
   ]
  },
  {
   "cell_type": "code",
   "execution_count": null,
   "metadata": {},
   "outputs": [],
   "source": [
    "from IPython.display import Image\n",
    "Image(\"./images/classification/word2vecknn1cont.png\")"
   ]
  },
  {
   "cell_type": "markdown",
   "metadata": {},
   "source": [
    "We can see from the above tables that the vocabulary affin.txt produced great results in comparison with the other vocabularies alone. It was also a little strange for us to see that it produced better results for the knn even from the last column with all the vocabularies plus the bonus. Nevertheless the best results in svm classifier are with all vocabularies plus bonus and the knn also produced the almost the best results. We can conclude that if we have all the vocabularies and the extra features from the bonus we have the best results.\n",
    "\n",
    "We compared the results from the knn and svm classifiers and saw a big difference. So we decided that we should search how the knn could produce better results. The number of neighbors that was given to knn was 1 so after trying different values we created the table below. The red was the worst value and the green was the best one."
   ]
  },
  {
   "cell_type": "code",
   "execution_count": null,
   "metadata": {},
   "outputs": [],
   "source": [
    "from IPython.display import Image\n",
    "Image(\"./images/classification/word2vecwithoutmanyk.png\")"
   ]
  },
  {
   "cell_type": "markdown",
   "metadata": {},
   "source": [
    "The results were very good for us since we saw that the knn probably would produce better results with all the vocabularies and the extra features if we would run it with n_neighbors=30 or n_neighbors=100. So we selected the best 4 values (not 100) from the table above and we created a new table. \n",
    "\n",
    "The table below has the final results that knn and svm produced with the different values of n_neighbors in knn. We have to say that the reason we put svm in this table was to see what the average value would be since it does not always produce the same result."
   ]
  },
  {
   "cell_type": "code",
   "execution_count": null,
   "metadata": {},
   "outputs": [],
   "source": [
    "from IPython.display import Image\n",
    "Image(\"./images/classification/word2vecallmanyk.png\")"
   ]
  },
  {
   "cell_type": "markdown",
   "metadata": {},
   "source": [
    "Bellow we have the final results. As you can see the best results were produced by the Word2Vec. We also observed that bag of words produced better results than tfidf with Knn classifier but tfidf was better (slightly higher) with svm classifier."
   ]
  },
  {
   "cell_type": "code",
   "execution_count": null,
   "metadata": {},
   "outputs": [],
   "source": [
    "Image(\"./images/classification/finalresults.png\")"
   ]
  }
 ],
 "metadata": {
  "kernelspec": {
   "display_name": "Python 3",
   "language": "python",
   "name": "python3"
  },
  "language_info": {
   "codemirror_mode": {
    "name": "ipython",
    "version": 3
   },
   "file_extension": ".py",
   "mimetype": "text/x-python",
   "name": "python",
   "nbconvert_exporter": "python",
   "pygments_lexer": "ipython3",
   "version": "3.7.3"
  }
 },
 "nbformat": 4,
 "nbformat_minor": 2
}
